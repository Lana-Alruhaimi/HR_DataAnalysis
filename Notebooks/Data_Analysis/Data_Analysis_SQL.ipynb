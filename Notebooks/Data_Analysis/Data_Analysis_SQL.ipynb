{
 "cells": [
  {
   "cell_type": "code",
   "execution_count": 6,
   "id": "f3e3ac96",
   "metadata": {},
   "outputs": [],
   "source": [
    "import sqlite3 as sql\n",
    "import pandas as pd"
   ]
  },
  {
   "cell_type": "markdown",
   "id": "72933ae3",
   "metadata": {},
   "source": [
    "########## Load, Clean, & Insert Data ###########"
   ]
  },
  {
   "cell_type": "code",
   "execution_count": 7,
   "id": "4b3fbbc4",
   "metadata": {},
   "outputs": [],
   "source": [
    "### Load data into Pandas data frame & clean it\n",
    "df = pd.read_csv('../../Data/Employee_Data.csv') #allows read after folder changes and code stays portable\n",
    "df = df.dropna() #drop null values (clean data)"
   ]
  },
  {
   "cell_type": "code",
   "execution_count": null,
   "id": "e25176f0",
   "metadata": {},
   "outputs": [
    {
     "name": "stdout",
     "output_type": "stream",
     "text": [
      "\n",
      "Error: unable to open database file\n"
     ]
    }
   ],
   "source": [
    "### Create local SQLite database and insert data\n",
    "Emp_db ='../../Data/Employee_Data.db'\n",
    "try:\n",
    "    conn = sql.connect(Emp_db) #create connection\n",
    "    print(f\"\\nSuccessful connection to {Emp_db}.\")\n",
    "    df.to_sql('Table_of_Employees', conn, if_exists='replace',index=False) #replaces current to make sure the data is as up-to-date as possible\n",
    "    print(\"\\nData inserted successfully.\")\n",
    "\n",
    "    \n",
    "    cursor = conn.cursor()\n",
    "    '''\n",
    "    # Print table\n",
    "    cursor.execute(\"SELECT * FROM Table_of_Employees\")\n",
    "    rows = cursor.fetchall()\n",
    "    print(\"\\n--------Table of Employees--------\")\n",
    "    headers = [description[0] for description in cursor.description] #points cursor at column names\n",
    "    print (headers)\n",
    "\n",
    "    for row in rows:\n",
    "        print (row)\n",
    "    '''\n",
    "    print(\"\\n\\n\\n\\n**********************************************************\\n\")\n",
    "    ########### Data Analysis Begins ###########\n",
    "    \n",
    "    ### Given Questions ###\n",
    "\n",
    "    # How many total employees are there?\n",
    "    cursor.execute(\"SELECT COUNT(EmployeeNumber) FROM Table_of_Employees\")\n",
    "    Emp_Amount = cursor.fetchone()[0] # takes result as num , instead of tuple\n",
    "    print (f\"\\n- Number of Employees: {Emp_Amount}\\n\")\n",
    "\n",
    "    # What is the employee count for each department?\n",
    "    cursor.execute(\"SELECT Department, COUNT(EmployeeNumber) FROM Table_of_Employees GROUP BY Department\")\n",
    "    Dept_Num = cursor.fetchall()\n",
    "    print (\"- Employees per Department:\")\n",
    "    for row in Dept_Num:\n",
    "        print(f\"{row[0]}:{row[1]}\")\n",
    "\n",
    "    # What is the average monthly income by job role?\n",
    "    cursor.execute(\"SELECT JobRole, AVG(MonthlyIncome) AS Avg_Sal FROM Table_of_Employees GROUP BY JobRole ORDER BY Avg_Sal\")\n",
    "    Avg_Sal_Role = cursor.fetchall()\n",
    "    print (\"\\n- Average Monthly Salary per Role (lowest to highest):\")\n",
    "    for row in Avg_Sal_Role:\n",
    "        print(f\"{row[0]}: {row[1]}\")\n",
    "    \n",
    "    # Who are the top 5 employees by performance rating?\n",
    "    cursor.execute(\"SELECT EmployeeNumber, PerformanceRating FROM Table_of_Employees ORDER BY PerformanceRating DESC LIMIT 5\")\n",
    "    Top5_Rate = cursor.fetchall()\n",
    "    print (f\"\\n- Top 5 Employees by Performance Rating:\")\n",
    "    for row in Top5_Rate:\n",
    "        print(f\"(Employee Number: {row[0]}) Rating: {row[1]}\")\n",
    "\n",
    "    # Which department has the highest average performance rating?\n",
    "    cursor.execute(\"SELECT Department, AVG(PerformanceRating) AS Avg_Rate FROM Table_of_Employees GROUP BY Department ORDER BY Avg_Rate DESC LIMIT 1\")\n",
    "    Max_Rate = cursor.fetchone()\n",
    "    print(f\"\\n- The {Max_Rate[0]} Department has the Highest Average Performance Rating: {Max_Rate[1]}\")\n",
    "\n",
    "    #### My Questions ###\n",
    "\n",
    "    # What is the average monthly income per total working years? (sorted by highest income to lowest)\n",
    "    cursor.execute(\"SELECT TotalWorkingYears, AVG(MonthlyIncome) AS Avg_Sal FROM Table_of_Employees GROUP BY TotalWorkingYears ORDER BY Avg_Sal DESC\") #DESC maks it high to low instead of the opposite\n",
    "    Avg_Sal_Years = cursor.fetchall()\n",
    "    print(\"\\n- Average Salary per Years Working (Highest to lowest):\")\n",
    "    for row in Avg_Sal_Years:\n",
    "        print(f\"{row[0]}: {row[1]}\")\n",
    "\n",
    "    # What is the average salary hike % per Education field (sorted by highest salary hike % to lowest)\n",
    "    cursor.execute(\"SELECT EducationField, AVG(PercentSalaryHike) AS Avg_Sal_Hike FROM Table_of_Employees GROUP BY EducationField ORDER BY Avg_Sal_Hike DESC\")\n",
    "    Avg_Sal_Hike = cursor.fetchall()\n",
    "    print(\"\\n- Average Salary Hike Percent per Education Field (Highest to lowest):\")\n",
    "    for row in Avg_Sal_Hike:\n",
    "        print(f\"{row[0]}: {row[1]}\")\n",
    "\n",
    "    # What is the average monthly salary per gender?\n",
    "    cursor.execute(\"SELECT Gender, AVG(MonthlyIncome) FROM Table_of_Employees GROUP BY Gender\")\n",
    "    Avg_Sal_G = cursor.fetchall()\n",
    "    print(\"\\n- Average Salary for each Gender:\")\n",
    "    for row in Avg_Sal_G:\n",
    "        print(f\"{row[0]}: {row[1]}\")\n",
    "\n",
    "    ########### Data Analysis Ends ###########\n",
    "\n",
    "except sql.Error as e: #saves error in var to print later (helps understand the reason for error)\n",
    "    print(f\"\\nError: {e}\")\n",
    "finally:\n",
    "    if 'conn' in locals() and conn:\n",
    "        conn.close() # closing force saves any updates and unlocks db\n",
    "        print(\"\\nDatabase connection closed.\\n\")"
   ]
  }
 ],
 "metadata": {
  "jupytext": {
   "cell_metadata_filter": "-all",
   "main_language": "python",
   "notebook_metadata_filter": "-all"
  },
  "kernelspec": {
   "display_name": "HR_Week2",
   "language": "python",
   "name": "python3"
  },
  "language_info": {
   "codemirror_mode": {
    "name": "ipython",
    "version": 3
   },
   "file_extension": ".py",
   "mimetype": "text/x-python",
   "name": "python",
   "nbconvert_exporter": "python",
   "pygments_lexer": "ipython3",
   "version": "3.10.18"
  }
 },
 "nbformat": 4,
 "nbformat_minor": 5
}
