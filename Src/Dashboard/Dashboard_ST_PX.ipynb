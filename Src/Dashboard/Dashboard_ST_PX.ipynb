{
 "cells": [
  {
   "cell_type": "code",
   "execution_count": null,
   "id": "88019ffc",
   "metadata": {},
   "outputs": [],
   "source": [
    "import streamlit as st\n",
    "import pandas as pd\n",
    "import plotly.express as px"
   ]
  },
  {
   "cell_type": "code",
   "execution_count": null,
   "id": "e2b68177",
   "metadata": {},
   "outputs": [],
   "source": [
    "df = pd.read_csv('../../Data/Employee_Data.csv') #allows read after folder changes and code stays portable"
   ]
  },
  {
   "cell_type": "markdown",
   "id": "b2cd17ae",
   "metadata": {},
   "source": [
    "########## Interactive Filter (Age) ###########"
   ]
  },
  {
   "cell_type": "code",
   "execution_count": null,
   "id": "611f5caa",
   "metadata": {},
   "outputs": [],
   "source": [
    "### Create filter\n",
    "Age_Min = int(df['Age'].min())\n",
    "Age_Max = int (df['Age'].max())\n",
    "Age_Select = st.sidebar.slider(\n",
    "    'Select Age Range',\n",
    "    min_value = Age_Min,\n",
    "    max_value = Age_Max,\n",
    "    value =(Age_Min,Age_Max)\n",
    ")"
   ]
  },
  {
   "cell_type": "code",
   "execution_count": null,
   "id": "8ab71ada",
   "metadata": {},
   "outputs": [],
   "source": [
    "### Interactively filter employee's data\n",
    "Filtered_df = df [df['Age'].between(Age_Select[0],Age_Select[1])]"
   ]
  },
  {
   "cell_type": "code",
   "execution_count": null,
   "id": "d34b4f2a",
   "metadata": {},
   "outputs": [],
   "source": [
    "Depts = Filtered_df['Department'].unique() #list of dept names (no repeating) for dropdown chart\n",
    "Brand_Colors = ['#4f008c','#c2a6cf','#e4d9eb','#e4e9ee'] # Brand colors hex code"
   ]
  },
  {
   "cell_type": "markdown",
   "id": "20c86984",
   "metadata": {},
   "source": [
    "########## Data Visualization ###########"
   ]
  },
  {
   "cell_type": "code",
   "execution_count": null,
   "id": "82451573",
   "metadata": {},
   "outputs": [],
   "source": [
    "### Bar chart (Employees per Department) \n",
    "Dept_Num = Filtered_df['Department'].value_counts().reset_index() #counts emp per dept and converts to dataframe so i can use plotly express (more customization)\n",
    "Dept_Num.columns = ['Department','Number of Employees'] #label of columns i want in the bar chart"
   ]
  },
  {
   "cell_type": "code",
   "execution_count": null,
   "id": "f0b26af1",
   "metadata": {},
   "outputs": [],
   "source": [
    "Bar = px.bar( #Bar creation\n",
    "    Dept_Num,\n",
    "    x = 'Number of Employees',\n",
    "    y = 'Department',\n",
    "    color='Department', #makes each bar diff color\n",
    "    color_discrete_sequence= Brand_Colors,\n",
    "    title = \"Employees by Department\"\n",
    ") \n",
    "st.plotly_chart (Bar) #to display the bar chart"
   ]
  },
  {
   "cell_type": "code",
   "execution_count": null,
   "id": "49a1500d",
   "metadata": {},
   "outputs": [],
   "source": [
    "### Pie chart (job satisfaction)\n",
    "Sat_Num = Filtered_df['JobSatisfaction'].value_counts().reset_index() #Sat_Num = number of employees per satisfaction level\n",
    "Sat_Num.columns = ['Job Satisfaction','Number of Employees']"
   ]
  },
  {
   "cell_type": "code",
   "execution_count": null,
   "id": "4ecde779",
   "metadata": {},
   "outputs": [],
   "source": [
    "Pie = px.pie(\n",
    "    Sat_Num,\n",
    "    values='Number of Employees',\n",
    "    names = 'Job Satisfaction',\n",
    "    color= 'Job Satisfaction',\n",
    "    color_discrete_sequence=Brand_Colors,\n",
    "    title = 'Job Satisfaction Distribution',\n",
    ")\n",
    "st.plotly_chart(Pie)"
   ]
  },
  {
   "cell_type": "code",
   "execution_count": null,
   "id": "b27ebe01",
   "metadata": {},
   "outputs": [],
   "source": [
    "### Box chart (salary per education field)\n",
    "Box = px.box(\n",
    "    Filtered_df,\n",
    "    x = 'EducationField', # x because it is fixed (categorical)\n",
    "    y = 'MonthlyIncome',\n",
    "    color = 'EducationField',\n",
    "    color_discrete_sequence=Brand_Colors,\n",
    "    title = 'Salary Distribution by Education Field'\n",
    ")\n",
    "st.plotly_chart(Box)"
   ]
  },
  {
   "cell_type": "code",
   "execution_count": null,
   "id": "18b34d2e",
   "metadata": {
    "lines_to_next_cell": 2
   },
   "outputs": [],
   "source": [
    "### Dropdown Menu (departments)\n",
    "Selected_Dept = st.selectbox('Choose a department', Depts) #creates dropdown menu & saves users choice\n",
    "Filtered_Dept = Filtered_df[Filtered_df['Department']==Selected_Dept] #filters depts based on selected dept\n",
    "st.dataframe(Filtered_Dept) # Displays result as table"
   ]
  },
  {
   "cell_type": "markdown",
   "id": "52771069",
   "metadata": {},
   "source": [
    "########## Update Employee Data ###########"
   ]
  },
  {
   "cell_type": "code",
   "execution_count": null,
   "id": "2db39121",
   "metadata": {},
   "outputs": [],
   "source": [
    "### Add New Employee\n",
    "st.header (\"Add New Employee\")"
   ]
  },
  {
   "cell_type": "code",
   "execution_count": null,
   "id": "2a5c1602",
   "metadata": {},
   "outputs": [],
   "source": [
    "with st.form(\"New_Emp_Info_Form\"):\n",
    "    st.write(\"Enter Employee's Information: \")\n",
    "    Emp_Num = st.number_input(\"Employee Number\", step=1) #step=1 makes it only integers\n",
    "    Dept = st.selectbox(\"Department\",Depts)\n",
    "    Edu_Field = st.text_input(\"Education Field\")\n",
    "    Job_Role = st.text_input(\"Job Role\")\n",
    "    Sal = st.number_input(\"Monthly Income\", min_value=0) #so salary isnt negative\n",
    "    Submitted = st.form_submit_button('Add Employee') #submit button"
   ]
  },
  {
   "cell_type": "code",
   "execution_count": null,
   "id": "71d1a486",
   "metadata": {
    "lines_to_next_cell": 2
   },
   "outputs": [],
   "source": [
    "if Submitted:\n",
    "    New_Emp_Data = { #create dictionary\n",
    "        \"EmployeeNumber\":Emp_Num,\n",
    "        \"Department\":Dept,\n",
    "        \"EducationField\":Edu_Field,\n",
    "        \"JobRole\": Job_Role,\n",
    "        \"MonthlyIncome\":Sal\n",
    "        }\n",
    "    if not all(New_Emp_Data.values()): #aka if there are empty fields\n",
    "        st.warning(\"Please make sure all fields are filled.\")\n",
    "    elif Emp_Num in df ['EmployeeNumber'].values:\n",
    "        st.warning(\"An employee with that number already exists\")\n",
    "    else:\n",
    "        New_Emp_df = pd.DataFrame([New_Emp_Data]) #dataframe for new employee\n",
    "        df = pd.concat([df,New_Emp_df],ignore_index=True) #add to main dataframe and make sure no indexes are repeated\n",
    "        df.to_csv('Employee_Data.csv', index=False) #save df w/new employee (in csv file), dont add row num to csv\n",
    "        st.success(\"New employee has been added.\")\n",
    "        st.rerun()"
   ]
  },
  {
   "cell_type": "code",
   "execution_count": null,
   "id": "2d264210",
   "metadata": {},
   "outputs": [],
   "source": [
    "#### Update Employee Salary\n",
    "st.header(\"Update Employee Salary\")"
   ]
  },
  {
   "cell_type": "code",
   "execution_count": null,
   "id": "94863c46",
   "metadata": {},
   "outputs": [],
   "source": [
    "with st.form(\"Update_Sal_Form\"):\n",
    "    st.write(\"Enter Employee Information:\")\n",
    "    Emp_Num_Update = st.number_input(\"Employee Number\", step=1) #Employee number that will have updated salary\n",
    "    Sal_Update = st.number_input(\"Monthly Income\", min_value=0)\n",
    "    Submitted_Update = st.form_submit_button('Update Employee Salary')\n",
    "\n",
    "    if Submitted_Update: #no need for dictionary, because we are updating a value, not inserting a row\n",
    "        if Emp_Num_Update not in df ['EmployeeNumber'].values: # we can't update the salary if the employee doesn't exist\n",
    "            st.warning(\"An employee with that number doesn't exist\")\n",
    "        else:\n",
    "            Sal_Update_Index = df[df['EmployeeNumber'] == Emp_Num_Update].index #finds index based on employee number\n",
    "            df.loc[Sal_Update_Index,'MonthlyIncome'] = Sal_Update #updates employee salary\n",
    "            df.to_csv('Employee_Data.csv', index=False) \n",
    "            st.success(f\"Employee salary has been updated for Employee number: {Emp_Num_Update}.\")\n",
    "            st.rerun()"
   ]
  }
 ],
 "metadata": {
  "jupytext": {
   "cell_metadata_filter": "-all",
   "main_language": "python",
   "notebook_metadata_filter": "-all"
  }
 },
 "nbformat": 4,
 "nbformat_minor": 5
}
