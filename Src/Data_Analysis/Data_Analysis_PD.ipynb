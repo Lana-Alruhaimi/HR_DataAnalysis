{
 "cells": [
  {
   "cell_type": "code",
   "execution_count": null,
   "id": "a99ee6ea",
   "metadata": {
    "lines_to_next_cell": 2
   },
   "outputs": [],
   "source": [
    "import pandas as pd"
   ]
  },
  {
   "cell_type": "markdown",
   "id": "96bf9c95",
   "metadata": {},
   "source": [
    "########## Load & Clean Data ###########"
   ]
  },
  {
   "cell_type": "code",
   "execution_count": null,
   "id": "1d6b57c2",
   "metadata": {
    "lines_to_next_cell": 2
   },
   "outputs": [],
   "source": [
    "df = pd.read_csv('Data/Employee_Data.csv') #allows read after folder changes and code stays portable\n",
    "df = df.dropna() #drop null values (clean data)\n",
    "print(df.info()) #print proving there are no null values\n",
    "print(\"\\n\\n\\n\\n**********************************************************\\n\")"
   ]
  },
  {
   "cell_type": "markdown",
   "id": "28116546",
   "metadata": {},
   "source": [
    "########## Data Analysis ###########"
   ]
  },
  {
   "cell_type": "markdown",
   "id": "49daf784",
   "metadata": {},
   "source": [
    "## Given Questions ###"
   ]
  },
  {
   "cell_type": "code",
   "execution_count": null,
   "id": "881e51ec",
   "metadata": {
    "lines_to_next_cell": 2
   },
   "outputs": [],
   "source": [
    "# How many total employees are there? \n",
    "Emp_Amount = df.shape[0] #number of rows (for columns replace 0 w/ 1)\n",
    "print (f\"\\n- Number of Employees: {Emp_Amount}\")"
   ]
  },
  {
   "cell_type": "code",
   "execution_count": null,
   "id": "f85e8704",
   "metadata": {},
   "outputs": [],
   "source": [
    "# What is the employee count for each department? \n",
    "Dept_Num = df.groupby('Department').size() #group by splits into smaller dfs, size counts rows\n",
    "print (f\"\\n- Employees per Department:\\n{Dept_Num}\")"
   ]
  },
  {
   "cell_type": "code",
   "execution_count": null,
   "id": "f3ae1a40",
   "metadata": {},
   "outputs": [],
   "source": [
    "# What is the average monthly income by job role? (sorted by highest income to lowest)\n",
    "Avg_Sal_Role= df.groupby('JobRole')['MonthlyIncome'].mean().sort_values(ascending=False) #[specify column to calculate], mean is avg, sort values orders it\n",
    "print (f\"\\n- Average Monthly Salary per Role (Highest to lowest):\\n{Avg_Sal_Role}\")"
   ]
  },
  {
   "cell_type": "code",
   "execution_count": null,
   "id": "c8fbdccb",
   "metadata": {},
   "outputs": [],
   "source": [
    "# Who are the top 5 employees by performance rating? \n",
    "Top5_Rate = df.nlargest(5,'PerformanceRating')# would add ['Name'] if I only wanted to print their names, but df doesnt have names\n",
    "print (f\"\\n- Top 5 Employees by Performance Rating:\\n{Top5_Rate}\")"
   ]
  },
  {
   "cell_type": "code",
   "execution_count": null,
   "id": "e896ca3b",
   "metadata": {},
   "outputs": [],
   "source": [
    "# Which department has the highest average performance rating? \n",
    "Avg_Rate = df.groupby(\"Department\")['PerformanceRating'].mean() #Avg per dept\n",
    "Max_Rate_Dept = Avg_Rate.idxmax() #idxmax returns the index(name) of highest dept\n",
    "Max_Rate_Num = Avg_Rate.max()\n",
    "print(f\"\\n- The {Max_Rate_Dept} Department has the Highest Average Performance Rating: {Max_Rate_Num}\")"
   ]
  },
  {
   "cell_type": "code",
   "execution_count": null,
   "id": "460112f1",
   "metadata": {},
   "outputs": [],
   "source": []
  },
  {
   "cell_type": "markdown",
   "id": "97942495",
   "metadata": {},
   "source": [
    "### My Questions ###"
   ]
  },
  {
   "cell_type": "code",
   "execution_count": null,
   "id": "3cee0b09",
   "metadata": {},
   "outputs": [],
   "source": [
    "# What is the average monthly income per total working years? (sorted by highest income to lowest)\n",
    "Avg_Sal_Years = df.groupby('TotalWorkingYears')['MonthlyIncome'].mean().sort_values(ascending=False)\n",
    "print(f\"\\n- Average Salary per Years Working (Highest to lowest):\\n{Avg_Sal_Years}\")"
   ]
  },
  {
   "cell_type": "code",
   "execution_count": null,
   "id": "565f2e18",
   "metadata": {},
   "outputs": [],
   "source": [
    "# What is the average salary hike % per Education field (sorted by highest salary hike % to lowest)\n",
    "Avg_SalH_Edu = df.groupby('EducationField')['PercentSalaryHike'].mean().sort_values(ascending=False) #average salary hike\n",
    "print(f\"\\n- Average Salary Hike Percent per Education Field (Highest to lowest):\\n{Avg_SalH_Edu}\")"
   ]
  },
  {
   "cell_type": "code",
   "execution_count": null,
   "id": "ff41cbc1",
   "metadata": {},
   "outputs": [],
   "source": [
    "# What is the average monthly salary per gender?\n",
    "Avg_Sal_G = df.groupby('Gender')['MonthlyIncome'].mean()\n",
    "print (f\"\\n- Average Salary for each Gender:\\n{Avg_Sal_G}\")"
   ]
  }
 ],
 "metadata": {
  "jupytext": {
   "cell_metadata_filter": "-all",
   "main_language": "python",
   "notebook_metadata_filter": "-all"
  }
 },
 "nbformat": 4,
 "nbformat_minor": 5
}
